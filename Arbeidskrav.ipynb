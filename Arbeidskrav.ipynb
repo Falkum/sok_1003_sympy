{
 "cells": [
  {
   "cell_type": "code",
   "execution_count": 71,
   "id": "1594798e-176d-4456-811b-55ee1d20e3db",
   "metadata": {},
   "outputs": [
    {
     "data": {
      "text/plain": [
       "{x: -1, y: 2}"
      ]
     },
     "execution_count": 71,
     "metadata": {},
     "output_type": "execute_result"
    }
   ],
   "source": [
    "#15_likningsett\n",
    "\n",
    "#Oppgave 1 a)\n",
    "import sympy as sp\n",
    "from sympy.solvers import solve\n",
    "x,y=sp.symbols(\"x y\")\n",
    "symbols=[x,y]\n",
    "equations=[\n",
    "    sp.Eq(2*x+4*y,6),\n",
    "    sp.Eq(-2*x+y,4)\n",
    "]\n",
    "solve(equations,symbols)"
   ]
  },
  {
   "cell_type": "code",
   "execution_count": 16,
   "id": "46022dec-7aa0-448e-abc9-166103964c44",
   "metadata": {},
   "outputs": [
    {
     "data": {
      "text/plain": [
       "[(-1, -1), (2, 5)]"
      ]
     },
     "execution_count": 16,
     "metadata": {},
     "output_type": "execute_result"
    }
   ],
   "source": [
    "#Oppgave 1 b)\n",
    "import sympy as sp\n",
    "from sympy.solvers import solve\n",
    "x,y=sp.symbols(\"x y\")\n",
    "symbols=[x,y]\n",
    "equations=[\n",
    "    sp.Eq(2*x-y,-1),\n",
    "    sp.Eq(x**2+x-y,1)\n",
    "]\n",
    "solve(equations,symbols)  #Sjekk at x*2 går som x^2"
   ]
  },
  {
   "cell_type": "code",
   "execution_count": 4,
   "id": "0e3d8470-87da-43f0-a748-47ea05f2c031",
   "metadata": {},
   "outputs": [
    {
     "data": {
      "text/plain": [
       "{x: 4, y: 0}"
      ]
     },
     "execution_count": 4,
     "metadata": {},
     "output_type": "execute_result"
    }
   ],
   "source": [
    "#Oppgave 2 a)\n",
    "\n",
    "import sympy as sp\n",
    "from sympy.solvers import solve\n",
    "x,y=sp.symbols(\"x y\")\n",
    "symbols=[x,y]\n",
    "equations=[\n",
    "    sp.Eq(3*x-12,-6*y),\n",
    "    sp.Eq(4*x-8*y,16)\n",
    "]\n",
    "solve(equations,symbols)\n"
   ]
  },
  {
   "cell_type": "code",
   "execution_count": 17,
   "id": "9244a429-af05-4ee5-bbda-3ac8ccb06c25",
   "metadata": {},
   "outputs": [
    {
     "data": {
      "text/plain": [
       "[(-15/2, 31/4), (2, 3)]"
      ]
     },
     "execution_count": 17,
     "metadata": {},
     "output_type": "execute_result"
    }
   ],
   "source": [
    "#Oppgave 2 b)\n",
    "\n",
    "import sympy as sp\n",
    "from sympy.solvers import solve\n",
    "x,y=sp.symbols(\"x y\")\n",
    "symbols=[x,y]\n",
    "equations=[\n",
    "    sp.Eq(x**2+4*x-3,3*y),\n",
    "    sp.Eq(2*y,8-x)\n",
    "]\n",
    "solve(equations,symbols)"
   ]
  },
  {
   "cell_type": "code",
   "execution_count": 4,
   "id": "89fb40d7-88c8-445f-896b-513eadda42a2",
   "metadata": {},
   "outputs": [
    {
     "data": {
      "text/plain": [
       "{x: 2, y: 2}"
      ]
     },
     "execution_count": 4,
     "metadata": {},
     "output_type": "execute_result"
    }
   ],
   "source": [
    "#16_likningsett\n",
    "\n",
    "#Oppgave 1 a)\n",
    "\n",
    "import sympy as sp\n",
    "from sympy.solvers import solve\n",
    "x,y=sp.symbols(\"x y\")\n",
    "symbols=[x,y]\n",
    "equations=[\n",
    "    sp.Eq(4*x+2*y,12),\n",
    "    sp.Eq(6*x-2*y,8)\n",
    "]\n",
    "solve(equations,symbols)\n"
   ]
  },
  {
   "cell_type": "code",
   "execution_count": 23,
   "id": "c274290b-951d-481c-a3b5-41921280eae3",
   "metadata": {},
   "outputs": [
    {
     "data": {
      "text/plain": [
       "[(0, -5), (12, 1)]"
      ]
     },
     "execution_count": 23,
     "metadata": {},
     "output_type": "execute_result"
    }
   ],
   "source": [
    "#Oppgave 1 b)\n",
    "\n",
    "import sympy as sp\n",
    "from sympy.solvers import solve\n",
    "x,y=sp.symbols(\"x y\")\n",
    "symbols=[x,y]\n",
    "equations=[\n",
    "    sp.Eq(2*x+y**2,25),\n",
    "    sp.Eq(x-2*y,10)\n",
    "]\n",
    "solve(equations,symbols)"
   ]
  },
  {
   "cell_type": "code",
   "execution_count": 24,
   "id": "f961ddf2-b8a9-4a80-a44b-924d2bf6e120",
   "metadata": {},
   "outputs": [
    {
     "data": {
      "text/plain": [
       "{x: 4, y: 2}"
      ]
     },
     "execution_count": 24,
     "metadata": {},
     "output_type": "execute_result"
    }
   ],
   "source": [
    "#Oppgave 2 a)\n",
    "\n",
    "import sympy as sp\n",
    "from sympy.solvers import solve\n",
    "x,y=sp.symbols(\"x y\")\n",
    "symbols=[x,y]\n",
    "equations=[\n",
    "    sp.Eq(4*x-4*y,8),\n",
    "    sp.Eq(9*x-5*y,26)\n",
    "]\n",
    "solve(equations,symbols)"
   ]
  },
  {
   "cell_type": "code",
   "execution_count": 25,
   "id": "4136bc6d-0c63-43ff-847c-7b45a8946f8f",
   "metadata": {},
   "outputs": [
    {
     "data": {
      "text/plain": [
       "[(-9, -2*sqrt(3)), (-9, 2*sqrt(3)), (7, -2), (7, 2)]"
      ]
     },
     "execution_count": 25,
     "metadata": {},
     "output_type": "execute_result"
    }
   ],
   "source": [
    "#Oppgave 2 b) \n",
    "\n",
    "import sympy as sp\n",
    "from sympy.solvers import solve\n",
    "x,y=sp.symbols(\"x y\")\n",
    "symbols=[x,y]\n",
    "equations=[\n",
    "    sp.Eq(x+2*y**2,15),\n",
    "    sp.Eq(x**2-4*y**2,33)\n",
    "]\n",
    "solve(equations,symbols)"
   ]
  },
  {
   "cell_type": "code",
   "execution_count": 26,
   "id": "124644ab-7088-46b8-bf51-4d3e7b533f11",
   "metadata": {},
   "outputs": [
    {
     "data": {
      "text/plain": [
       "[(0, -4), (0, 4), (15, -1), (15, 1)]"
      ]
     },
     "execution_count": 26,
     "metadata": {},
     "output_type": "execute_result"
    }
   ],
   "source": [
    "#17_faktoriseringsmetoden\n",
    "\n",
    "#Oppgave 1 a)\n",
    "\n",
    "import sympy as sp\n",
    "from sympy.solvers import solve\n",
    "x,y=sp.symbols(\"x y\")\n",
    "symbols=[x,y]\n",
    "equations=[\n",
    "    sp.Eq(x*y**2-x,0),\n",
    "    sp.Eq(x+y**2,16)\n",
    "]\n",
    "solve(equations,symbols)"
   ]
  },
  {
   "cell_type": "code",
   "execution_count": 27,
   "id": "793f1d3a-34e7-4f00-97b3-0670f52b56e5",
   "metadata": {},
   "outputs": [
    {
     "data": {
      "text/plain": [
       "[(-10, 0), (-6, -8), (-6, 8), (6, -8), (6, 8), (10, 0)]"
      ]
     },
     "execution_count": 27,
     "metadata": {},
     "output_type": "execute_result"
    }
   ],
   "source": [
    "#Oppgave 1 b) \n",
    "\n",
    "import sympy as sp\n",
    "from sympy.solvers import solve\n",
    "x,y=sp.symbols(\"x y\")\n",
    "symbols=[x,y]\n",
    "equations=[\n",
    "    sp.Eq(x**2+y**2,100),\n",
    "    sp.Eq(x**2*y-36*y,0)\n",
    "]\n",
    "solve(equations,symbols)"
   ]
  },
  {
   "cell_type": "code",
   "execution_count": 29,
   "id": "b37ab8a2-906a-4692-b0f1-1060d0ee8466",
   "metadata": {},
   "outputs": [
    {
     "data": {
      "text/plain": [
       "[(-3, -7), (-3, 7), (0, -sqrt(58)), (0, sqrt(58)), (3, -7), (3, 7)]"
      ]
     },
     "execution_count": 29,
     "metadata": {},
     "output_type": "execute_result"
    }
   ],
   "source": [
    "#Oppgave 2 a)\n",
    "\n",
    "import sympy as sp\n",
    "from sympy.solvers import solve\n",
    "x,y=sp.symbols(\"x y\")\n",
    "symbols=[x,y]\n",
    "equations=[\n",
    "    sp.Eq(x*y**2-49*x,0),\n",
    "    sp.Eq(x**2+y**2,58)\n",
    "]\n",
    "solve(equations,symbols)"
   ]
  },
  {
   "cell_type": "code",
   "execution_count": 32,
   "id": "a4f272f7-3d80-4fc5-b085-509c87d01faa",
   "metadata": {},
   "outputs": [
    {
     "data": {
      "text/plain": [
       "[(-1.11803398874989, 0.0),\n",
       " (-0.500000000000000, -1.00000000000000),\n",
       " (-0.500000000000000, 1.00000000000000),\n",
       " (1.11803398874989, 0.0)]"
      ]
     },
     "execution_count": 32,
     "metadata": {},
     "output_type": "execute_result"
    }
   ],
   "source": [
    "#Oppgave 2 b)\n",
    "\n",
    "import sympy as sp\n",
    "from sympy.solvers import solve\n",
    "x,y=sp.symbols(\"x y\")\n",
    "symbols=[x,y]\n",
    "equations=[\n",
    "    sp.Eq(x**2+y**2,5/4),\n",
    "    sp.Eq(2*x*y+y,0)\n",
    "]\n",
    "solve(equations,symbols)"
   ]
  },
  {
   "cell_type": "code",
   "execution_count": 42,
   "id": "714a6ed8-c483-40fa-b7c7-f5eb8ccb0a83",
   "metadata": {},
   "outputs": [
    {
     "data": {
      "text/latex": [
       "$\\displaystyle 5 x^{4}$"
      ],
      "text/plain": [
       "5*x**4"
      ]
     },
     "execution_count": 42,
     "metadata": {},
     "output_type": "execute_result"
    }
   ],
   "source": [
    "#19_grunnleggende derivasjonsregler\n",
    "\n",
    "#Oppgave 1 a)\n",
    "\n",
    "sp.diff(x**5)\n",
    "  "
   ]
  },
  {
   "cell_type": "code",
   "execution_count": 43,
   "id": "cae24d0d-f095-4383-9ea0-43da99dd0623",
   "metadata": {},
   "outputs": [
    {
     "data": {
      "text/latex": [
       "$\\displaystyle 1$"
      ],
      "text/plain": [
       "1"
      ]
     },
     "execution_count": 43,
     "metadata": {},
     "output_type": "execute_result"
    }
   ],
   "source": [
    "#Oppgave 1 b)\n",
    "\n",
    "sp.diff(x+12)"
   ]
  },
  {
   "cell_type": "code",
   "execution_count": 44,
   "id": "d8ac1fff-d257-42a7-b222-ae511137d16c",
   "metadata": {},
   "outputs": [
    {
     "data": {
      "text/latex": [
       "$\\displaystyle 3 x^{2} + 8 x$"
      ],
      "text/plain": [
       "3*x**2 + 8*x"
      ]
     },
     "execution_count": 44,
     "metadata": {},
     "output_type": "execute_result"
    }
   ],
   "source": [
    "#Oppgave 1 c)\n",
    "\n",
    "sp.diff(x**3+4*x**2)"
   ]
  },
  {
   "cell_type": "code",
   "execution_count": 3,
   "id": "89491033-7b58-4a4f-95c0-debc7c7c2f24",
   "metadata": {},
   "outputs": [
    {
     "data": {
      "text/latex": [
       "$\\displaystyle \\frac{3 \\sqrt{2} \\sqrt{x^{3}}}{2 x}$"
      ],
      "text/plain": [
       "3*sqrt(2)*sqrt(x**3)/(2*x)"
      ]
     },
     "execution_count": 3,
     "metadata": {},
     "output_type": "execute_result"
    }
   ],
   "source": [
    "#Oppgave 1 d)\n",
    "\n",
    "sp.diff(sp.sqrt(x*2*x**2,))\n"
   ]
  },
  {
   "cell_type": "code",
   "execution_count": null,
   "id": "53c3e1ea-6ae9-4be7-8ebe-2d74a6f72707",
   "metadata": {},
   "outputs": [],
   "source": []
  },
  {
   "cell_type": "code",
   "execution_count": 4,
   "id": "9f726cc8-ddea-40f6-a4c1-33a95ce94638",
   "metadata": {},
   "outputs": [
    {
     "data": {
      "text/latex": [
       "$\\displaystyle \\frac{1}{2 \\sqrt{x + 25}}$"
      ],
      "text/plain": [
       "1/(2*sqrt(x + 25))"
      ]
     },
     "execution_count": 4,
     "metadata": {},
     "output_type": "execute_result"
    }
   ],
   "source": [
    "#Oppgave 1 e)\n",
    "\n",
    "sp.diff(sp.sqrt(x+5**2,))\n",
    "\n"
   ]
  },
  {
   "cell_type": "code",
   "execution_count": 48,
   "id": "ae81135a-3c8f-43ec-b81d-62f21e00f549",
   "metadata": {},
   "outputs": [
    {
     "data": {
      "text/latex": [
       "$\\displaystyle 3 x^{2} - \\frac{1}{x^{2}}$"
      ],
      "text/plain": [
       "3*x**2 - 1/x**2"
      ]
     },
     "execution_count": 48,
     "metadata": {},
     "output_type": "execute_result"
    }
   ],
   "source": [
    "#Oppgave 1 f) \n",
    "\n",
    "sp.diff(x**3+1/x)"
   ]
  },
  {
   "cell_type": "code",
   "execution_count": 50,
   "id": "dad0c0d7-264f-46ec-b270-a50889074130",
   "metadata": {},
   "outputs": [
    {
     "data": {
      "text/latex": [
       "$\\displaystyle 3 x^{2} - 2 x + 0.25$"
      ],
      "text/plain": [
       "3*x**2 - 2*x + 0.25"
      ]
     },
     "execution_count": 50,
     "metadata": {},
     "output_type": "execute_result"
    }
   ],
   "source": [
    "#Oppgave 1 g)\n",
    "\n",
    "sp.diff(x**3-x**2+1/4*x)"
   ]
  },
  {
   "cell_type": "code",
   "execution_count": 51,
   "id": "aed35802-595e-480d-8910-ff42ff66fa27",
   "metadata": {},
   "outputs": [
    {
     "data": {
      "text/latex": [
       "$\\displaystyle 36 x^{5} - \\frac{1}{x^{2}}$"
      ],
      "text/plain": [
       "36*x**5 - 1/x**2"
      ]
     },
     "execution_count": 51,
     "metadata": {},
     "output_type": "execute_result"
    }
   ],
   "source": [
    "#Oppgave 2 a)\n",
    "\n",
    "sp.diff(1/x+6*x**6)"
   ]
  },
  {
   "cell_type": "code",
   "execution_count": 52,
   "id": "2442deaa-f115-47cc-b2d9-3e8977640c5d",
   "metadata": {},
   "outputs": [
    {
     "data": {
      "text/latex": [
       "$\\displaystyle 1.5 x^{2} - 1$"
      ],
      "text/plain": [
       "1.5*x**2 - 1"
      ]
     },
     "execution_count": 52,
     "metadata": {},
     "output_type": "execute_result"
    }
   ],
   "source": [
    "#Oppgave 2 b)\n",
    "\n",
    "sp.diff(-x+1/2*x**3)"
   ]
  },
  {
   "cell_type": "code",
   "execution_count": 54,
   "id": "40c88036-657c-45a3-ab6b-261d3a6f898d",
   "metadata": {},
   "outputs": [
    {
     "data": {
      "text/latex": [
       "$\\displaystyle x^{2} + x \\left(2 x + 2\\right) + 2 x - 3$"
      ],
      "text/plain": [
       "x**2 + x*(2*x + 2) + 2*x - 3"
      ]
     },
     "execution_count": 54,
     "metadata": {},
     "output_type": "execute_result"
    }
   ],
   "source": [
    "#Oppgave 2 c) \n",
    "\n",
    "sp.diff(x*(x**2+2*x-3))"
   ]
  },
  {
   "cell_type": "code",
   "execution_count": 57,
   "id": "399b1f04-3d16-4100-8d0a-dc0ff816045c",
   "metadata": {},
   "outputs": [
    {
     "data": {
      "text/latex": [
       "$\\displaystyle 9 x^{8}$"
      ],
      "text/plain": [
       "9*x**8"
      ]
     },
     "execution_count": 57,
     "metadata": {},
     "output_type": "execute_result"
    }
   ],
   "source": [
    "#20_Produkt- og brøkregelen\n",
    "\n",
    "#Oppgave 1 e) \n",
    "\n",
    "sp.diff(x**4*x**5)\n"
   ]
  },
  {
   "cell_type": "code",
   "execution_count": 15,
   "id": "e451067c-b5fb-4f0c-bd5d-8b04fd84a660",
   "metadata": {},
   "outputs": [
    {
     "data": {
      "text/latex": [
       "$\\displaystyle 3 x^{2} - \\frac{1}{x^{2}}$"
      ],
      "text/plain": [
       "3*x**2 - 1/x**2"
      ]
     },
     "execution_count": 15,
     "metadata": {},
     "output_type": "execute_result"
    }
   ],
   "source": [
    "#Oppgave 1 f)\n",
    "\n",
    "sp.diff(x**3+1/x)"
   ]
  },
  {
   "cell_type": "code",
   "execution_count": 5,
   "id": "20ef405a-f6a5-4d16-a905-c2c2d32a5b94",
   "metadata": {},
   "outputs": [
    {
     "data": {
      "text/latex": [
       "$\\displaystyle - \\frac{6}{x^{4}}$"
      ],
      "text/plain": [
       "-6/x**4"
      ]
     },
     "execution_count": 5,
     "metadata": {},
     "output_type": "execute_result"
    }
   ],
   "source": [
    "#Oppgave 1 g) \n",
    "\n",
    "sp.diff (2/x**3)"
   ]
  },
  {
   "cell_type": "code",
   "execution_count": 9,
   "id": "2d313a19-e7fa-4cda-bb19-9bd39a91f0da",
   "metadata": {},
   "outputs": [
    {
     "data": {
      "text/latex": [
       "$\\displaystyle 2 x + \\frac{6}{x^{4}}$"
      ],
      "text/plain": [
       "2*x + 6/x**4"
      ]
     },
     "execution_count": 9,
     "metadata": {},
     "output_type": "execute_result"
    }
   ],
   "source": [
    "#Oppgave 1 h)\n",
    "\n",
    "sp.diff(x**2-2/x**3)"
   ]
  },
  {
   "cell_type": "code",
   "execution_count": 7,
   "id": "6599756c-5b3f-4ce7-a221-0d5cccdea90d",
   "metadata": {},
   "outputs": [
    {
     "data": {
      "text/latex": [
       "$\\displaystyle \\frac{7 \\sqrt{x^{7}}}{2 x}$"
      ],
      "text/plain": [
       "7*sqrt(x**7)/(2*x)"
      ]
     },
     "execution_count": 7,
     "metadata": {},
     "output_type": "execute_result"
    }
   ],
   "source": [
    "#Oppgave 1 i) \n",
    "\n",
    "sp.diff(sp.sqrt(x*x**6,))"
   ]
  },
  {
   "cell_type": "code",
   "execution_count": 11,
   "id": "dd43a98b-0523-4402-8d35-ca3279edb5ee",
   "metadata": {},
   "outputs": [
    {
     "data": {
      "text/latex": [
       "$\\displaystyle 3 x^{2} + 1$"
      ],
      "text/plain": [
       "3*x**2 + 1"
      ]
     },
     "execution_count": 11,
     "metadata": {},
     "output_type": "execute_result"
    }
   ],
   "source": [
    "#Oppgave 1 j)\n",
    "\n",
    "sp.diff(x*(x**2+ 1))"
   ]
  },
  {
   "cell_type": "code",
   "execution_count": 12,
   "id": "dbfc7f11-2ee9-47f0-9198-5e11d34913d6",
   "metadata": {},
   "outputs": [
    {
     "data": {
      "text/latex": [
       "$\\displaystyle 2 x + \\frac{12}{x^{4}}$"
      ],
      "text/plain": [
       "2*x + 12/x**4"
      ]
     },
     "execution_count": 12,
     "metadata": {},
     "output_type": "execute_result"
    }
   ],
   "source": [
    "#Oppgave 1 k)\n",
    "\n",
    "sp.diff(x**2-4/x**3-1)"
   ]
  },
  {
   "cell_type": "code",
   "execution_count": 13,
   "id": "ebaac662-efe2-49c4-8565-d14b805c8689",
   "metadata": {},
   "outputs": [
    {
     "data": {
      "text/latex": [
       "$\\displaystyle 2$"
      ],
      "text/plain": [
       "2"
      ]
     },
     "execution_count": 13,
     "metadata": {},
     "output_type": "execute_result"
    }
   ],
   "source": [
    "#Oppgave 1 l)\n",
    "\n",
    "sp.diff(x**2/x**2+2*x)"
   ]
  },
  {
   "cell_type": "code",
   "execution_count": 14,
   "id": "ea066476-029d-4901-827c-daf77915859e",
   "metadata": {},
   "outputs": [
    {
     "data": {
      "text/latex": [
       "$\\displaystyle 2 x + 4 - \\frac{2}{x^{2}}$"
      ],
      "text/plain": [
       "2*x + 4 - 2/x**2"
      ]
     },
     "execution_count": 14,
     "metadata": {},
     "output_type": "execute_result"
    }
   ],
   "source": [
    "#Oppgave 1 m)\n",
    "\n",
    "sp.diff(x**2+4*x+2/x-2)"
   ]
  },
  {
   "cell_type": "code",
   "execution_count": 16,
   "id": "aa272181-86c9-4d47-96b3-a945fa4949e3",
   "metadata": {},
   "outputs": [
    {
     "data": {
      "text/latex": [
       "$\\displaystyle 3 x^{2} + \\frac{2}{x^{2}}$"
      ],
      "text/plain": [
       "3*x**2 + 2/x**2"
      ]
     },
     "execution_count": 16,
     "metadata": {},
     "output_type": "execute_result"
    }
   ],
   "source": [
    "#Oppgave 2 a)\n",
    "\n",
    "sp.diff(x**3-2*x/x**2-1)"
   ]
  },
  {
   "cell_type": "code",
   "execution_count": 19,
   "id": "ce928001-84a9-4f9d-9f91-f3db19c5ffef",
   "metadata": {},
   "outputs": [
    {
     "data": {
      "text/latex": [
       "$\\displaystyle 2 x \\left(x^{2} - 1\\right) + 2 x \\left(x^{2} + 1\\right)$"
      ],
      "text/plain": [
       "2*x*(x**2 - 1) + 2*x*(x**2 + 1)"
      ]
     },
     "execution_count": 19,
     "metadata": {},
     "output_type": "execute_result"
    }
   ],
   "source": [
    "#Oppgave 2 b) \n",
    "\n",
    "sp.diff((x**2+1)*(x**2-1))"
   ]
  },
  {
   "cell_type": "code",
   "execution_count": 20,
   "id": "d76b2a2b-e490-407f-aedb-02a06c788849",
   "metadata": {},
   "outputs": [
    {
     "data": {
      "text/latex": [
       "$\\displaystyle 3 + \\frac{12}{x^{4}}$"
      ],
      "text/plain": [
       "3 + 12/x**4"
      ]
     },
     "execution_count": 20,
     "metadata": {},
     "output_type": "execute_result"
    }
   ],
   "source": [
    "#Oppgave 2 c)\n",
    "\n",
    "sp.diff(3*x-4/x**3-7)"
   ]
  },
  {
   "cell_type": "code",
   "execution_count": 21,
   "id": "cdf4d006-05cd-47e8-908a-e42cdbbcb417",
   "metadata": {},
   "outputs": [
    {
     "data": {
      "text/latex": [
       "$\\displaystyle \\left(15 x^{2} + 30\\right) \\left(x^{3} + 6 x\\right)^{4}$"
      ],
      "text/plain": [
       "(15*x**2 + 30)*(x**3 + 6*x)**4"
      ]
     },
     "execution_count": 21,
     "metadata": {},
     "output_type": "execute_result"
    }
   ],
   "source": [
    "#21_Kjerneregelen\n",
    "\n",
    "#Oppgave 1 a)\n",
    "\n",
    "sp.diff((x**3+6*x)**5)"
   ]
  },
  {
   "cell_type": "code",
   "execution_count": 19,
   "id": "d7a3a31a-2ec5-4c0b-b5d4-e4e152c8ce42",
   "metadata": {},
   "outputs": [
    {
     "data": {
      "text/latex": [
       "$\\displaystyle \\frac{2 x}{\\sqrt{2 x^{2} + 5}}$"
      ],
      "text/plain": [
       "2*x/sqrt(2*x**2 + 5)"
      ]
     },
     "execution_count": 19,
     "metadata": {},
     "output_type": "execute_result"
    }
   ],
   "source": [
    "#Oppgave 1 b) \n",
    "\n",
    "sp.diff(sp.sqrt(2*x**2+5,))"
   ]
  },
  {
   "cell_type": "markdown",
   "id": "654909bd-6256-40cf-a6e6-1d9bb9b569a5",
   "metadata": {},
   "source": [
    "# Oppgave 1 c)\n",
    "\n",
    "sp.diff((2*x/x**2+3)**4)"
   ]
  },
  {
   "cell_type": "code",
   "execution_count": 28,
   "id": "9e7f5cb3-3b4b-4643-ac08-57cab86d48f4",
   "metadata": {},
   "outputs": [
    {
     "data": {
      "text/latex": [
       "$\\displaystyle 12 x^{3} \\left(2 x^{4} + 9\\right)^{2}$"
      ],
      "text/plain": [
       "12*x**3*(2*x**4 + 9)**2"
      ]
     },
     "execution_count": 28,
     "metadata": {},
     "output_type": "execute_result"
    }
   ],
   "source": [
    "##Oppgave 1 d)\n",
    "\n",
    "sp.diff((2*x**4+9)**3/2)"
   ]
  },
  {
   "cell_type": "code",
   "execution_count": 26,
   "id": "9554f762-c404-4df6-a43e-d651063cc2b8",
   "metadata": {},
   "outputs": [
    {
     "data": {
      "text/latex": [
       "$\\displaystyle \\frac{x}{\\sqrt{x^{2} + 1.0}}$"
      ],
      "text/plain": [
       "x/sqrt(x**2 + 1.0)"
      ]
     },
     "execution_count": 26,
     "metadata": {},
     "output_type": "execute_result"
    }
   ],
   "source": [
    "#Oppgave 1 e)\n",
    "\n",
    "sp.diff(sp.sqrt(1/1+x**2,))"
   ]
  },
  {
   "cell_type": "code",
   "execution_count": 27,
   "id": "4fc1f5b3-3e98-4f2e-8086-18ac55bc792c",
   "metadata": {},
   "outputs": [
    {
     "data": {
      "text/latex": [
       "$\\displaystyle x^{2} \\left(6 x + 6\\right) \\left(x^{2} + 2 x\\right)^{2} + 2 x \\left(x^{2} + 2 x\\right)^{3}$"
      ],
      "text/plain": [
       "x**2*(6*x + 6)*(x**2 + 2*x)**2 + 2*x*(x**2 + 2*x)**3"
      ]
     },
     "execution_count": 27,
     "metadata": {},
     "output_type": "execute_result"
    }
   ],
   "source": [
    "#Oppgave 1 f)\n",
    "\n",
    "sp.diff(x**2*(x**2+2*x)**3)"
   ]
  },
  {
   "cell_type": "code",
   "execution_count": 30,
   "id": "286705ce-af86-4dd1-b8b1-a6ef2b0ba7ee",
   "metadata": {},
   "outputs": [
    {
     "data": {
      "text/latex": [
       "$\\displaystyle \\frac{\\sqrt{x^{2} \\left(x^{2} + 2 x\\right)^{3}} \\left(\\frac{x^{2} \\left(6 x + 6\\right) \\left(x^{2} + 2 x\\right)^{2}}{2} + x \\left(x^{2} + 2 x\\right)^{3}\\right)}{x^{2} \\left(x^{2} + 2 x\\right)^{3}}$"
      ],
      "text/plain": [
       "sqrt(x**2*(x**2 + 2*x)**3)*(x**2*(6*x + 6)*(x**2 + 2*x)**2/2 + x*(x**2 + 2*x)**3)/(x**2*(x**2 + 2*x)**3)"
      ]
     },
     "execution_count": 30,
     "metadata": {},
     "output_type": "execute_result"
    }
   ],
   "source": [
    "#Oppgave 1 g)\n",
    "\n",
    "sp.diff(sp.sqrt(x**2*(x**2+2*x)**3,))"
   ]
  },
  {
   "cell_type": "code",
   "execution_count": 31,
   "id": "24dc5f5e-9f98-4d9b-a359-5c4d41597383",
   "metadata": {},
   "outputs": [
    {
     "data": {
      "text/latex": [
       "$\\displaystyle \\left(\\frac{x^{2} \\left(- 2 x - 1\\right)}{\\left(x^{2} + x\\right)^{2}} + \\frac{2 x}{x^{2} + x}\\right)^{3}$"
      ],
      "text/plain": [
       "(x**2*(-2*x - 1)/(x**2 + x)**2 + 2*x/(x**2 + x))**3"
      ]
     },
     "execution_count": 31,
     "metadata": {},
     "output_type": "execute_result"
    }
   ],
   "source": [
    "#Oppgave 1 h)\n",
    "\n",
    "sp.diff(x**2/(x**2+x))**3"
   ]
  },
  {
   "cell_type": "code",
   "execution_count": 40,
   "id": "b7cb2944-d19b-48b6-98f2-82a5a89d6581",
   "metadata": {},
   "outputs": [
    {
     "data": {
      "text/latex": [
       "$\\displaystyle 4 x \\left(x^{2} + 1\\right) \\left(x^{3} + 1\\right)^{3}$"
      ],
      "text/plain": [
       "4*x*(x**2 + 1)*(x**3 + 1)**3"
      ]
     },
     "execution_count": 40,
     "metadata": {},
     "output_type": "execute_result"
    }
   ],
   "source": [
    "#Oppgave i)\n",
    "\n",
    "sp.diff((x**2+1)**2)*(x**3+1)**3"
   ]
  },
  {
   "cell_type": "code",
   "execution_count": 32,
   "id": "fc6a3acb-fffd-45c8-a31e-a48cac5052cd",
   "metadata": {},
   "outputs": [
    {
     "data": {
      "text/latex": [
       "$\\displaystyle \\left(12 x + 4\\right) \\left(3 x^{2} + 2 x\\right)$"
      ],
      "text/plain": [
       "(12*x + 4)*(3*x**2 + 2*x)"
      ]
     },
     "execution_count": 32,
     "metadata": {},
     "output_type": "execute_result"
    }
   ],
   "source": [
    "#Oppgave 2 a)\n",
    "\n",
    "sp.diff(sp.sqrt(3*x**2+2*x)**4,)"
   ]
  },
  {
   "cell_type": "code",
   "execution_count": 48,
   "id": "205481f8-1bef-4c44-bd13-311f87b5c835",
   "metadata": {},
   "outputs": [
    {
     "data": {
      "text/latex": [
       "$\\displaystyle 15 x^{2} \\left(x^{2} + 3\\right)^{4} \\left(x^{3} + 3\\right)^{4}$"
      ],
      "text/plain": [
       "15*x**2*(x**2 + 3)**4*(x**3 + 3)**4"
      ]
     },
     "execution_count": 48,
     "metadata": {},
     "output_type": "execute_result"
    }
   ],
   "source": [
    "#Oppgave 2 b)\n",
    "\n",
    "sp.diff((x**3+3)**5)*(x**2+3)**4"
   ]
  },
  {
   "cell_type": "code",
   "execution_count": 33,
   "id": "611a12e1-6795-420e-9d22-002a2c7f4007",
   "metadata": {},
   "outputs": [
    {
     "data": {
      "text/latex": [
       "$\\displaystyle \\frac{\\sqrt{2} \\sqrt{x^{2}}}{x}$"
      ],
      "text/plain": [
       "sqrt(2)*sqrt(x**2)/x"
      ]
     },
     "execution_count": 33,
     "metadata": {},
     "output_type": "execute_result"
    }
   ],
   "source": [
    "#Oppgave 2 c)\n",
    "\n",
    "sp.diff(sp.sqrt(x**2+1*x**2,))"
   ]
  },
  {
   "cell_type": "code",
   "execution_count": 50,
   "id": "0f5b1d1c-e84f-4864-83e9-cfe5c7c36e97",
   "metadata": {},
   "outputs": [
    {
     "data": {
      "text/latex": [
       "$\\displaystyle \\frac{\\left(18 x + 6\\right) \\left(3 x^{2} + 2 x\\right)^{2}}{x^{2}}$"
      ],
      "text/plain": [
       "(18*x + 6)*(3*x**2 + 2*x)**2/x**2"
      ]
     },
     "execution_count": 50,
     "metadata": {},
     "output_type": "execute_result"
    }
   ],
   "source": [
    "#Oppgave 2 d)\n",
    "\n",
    "sp.diff((2*x+3*x**2)**3)/x**2"
   ]
  },
  {
   "cell_type": "code",
   "execution_count": 37,
   "id": "f2d698fe-7d6b-4771-8a07-15d845480901",
   "metadata": {},
   "outputs": [
    {
     "data": {
      "text/latex": [
       "$\\displaystyle \\frac{6 x^{3}}{\\sqrt{3 x^{4} - 5}}$"
      ],
      "text/plain": [
       "6*x**3/sqrt(3*x**4 - 5)"
      ]
     },
     "execution_count": 37,
     "metadata": {},
     "output_type": "execute_result"
    }
   ],
   "source": [
    "#Oppgave 2 e)\n",
    "\n",
    "sp.diff(sp.sqrt(3*x**4-5,))"
   ]
  },
  {
   "cell_type": "code",
   "execution_count": 46,
   "id": "354c32fd-1029-4cb5-81f4-5b1b4a7e913a",
   "metadata": {},
   "outputs": [
    {
     "data": {
      "text/latex": [
       "$\\displaystyle - \\frac{1}{2 x^{2} \\sqrt{-1 + \\frac{1}{x}}}$"
      ],
      "text/plain": [
       "-1/(2*x**2*sqrt(-1 + 1/x))"
      ]
     },
     "execution_count": 46,
     "metadata": {},
     "output_type": "execute_result"
    }
   ],
   "source": [
    "#Oppgave 2 f)\n",
    "\n",
    "sp.diff(sp.sqrt(x**3/x**4-1,))"
   ]
  },
  {
   "cell_type": "code",
   "execution_count": 49,
   "id": "35a35c74-2d85-4905-9689-cac9e10688cf",
   "metadata": {},
   "outputs": [
    {
     "data": {
      "text/latex": [
       "$\\displaystyle \\log{\\left(5 x \\right)}$"
      ],
      "text/plain": [
       "log(5*x)"
      ]
     },
     "execution_count": 49,
     "metadata": {},
     "output_type": "execute_result"
    }
   ],
   "source": [
    "#22_Derivasjon av logaritme- og ekspotentialfunksjoner\n",
    "\n",
    "sp.ln(5*x)"
   ]
  },
  {
   "cell_type": "code",
   "execution_count": 70,
   "id": "322296ff-19d0-4cd2-8731-1bafce2e5097",
   "metadata": {},
   "outputs": [
    {
     "data": {
      "text/latex": [
       "$\\displaystyle e^{- 2 x}$"
      ],
      "text/plain": [
       "exp(-2*x)"
      ]
     },
     "execution_count": 70,
     "metadata": {},
     "output_type": "execute_result"
    }
   ],
   "source": [
    "#Oppgave 1 b)\n",
    "\n",
    "sp.exp(-2*x)"
   ]
  },
  {
   "cell_type": "code",
   "execution_count": 52,
   "id": "37d3b417-d553-4f50-a503-8d99c0a73549",
   "metadata": {},
   "outputs": [
    {
     "data": {
      "text/latex": [
       "$\\displaystyle \\log{\\left(12 x - 3 \\right)}$"
      ],
      "text/plain": [
       "log(12*x - 3)"
      ]
     },
     "execution_count": 52,
     "metadata": {},
     "output_type": "execute_result"
    }
   ],
   "source": [
    "#Oppgave 1 c)\n",
    "\n",
    "sp.ln((12*x)-3)"
   ]
  },
  {
   "cell_type": "code",
   "execution_count": 54,
   "id": "d50171da-07c0-45d5-bc06-908e8e13682e",
   "metadata": {},
   "outputs": [
    {
     "data": {
      "text/latex": [
       "$\\displaystyle e^{2^{x}}$"
      ],
      "text/plain": [
       "exp(2**x)"
      ]
     },
     "execution_count": 54,
     "metadata": {},
     "output_type": "execute_result"
    }
   ],
   "source": [
    "#Oppgave 1 d)\n",
    "\n",
    "sp.exp(2**x)"
   ]
  },
  {
   "cell_type": "code",
   "execution_count": 57,
   "id": "2024be11-6b9c-4a2b-83ee-a4859048d242",
   "metadata": {},
   "outputs": [
    {
     "data": {
      "text/latex": [
       "$\\displaystyle e^{3 x + 5}$"
      ],
      "text/plain": [
       "exp(3*x + 5)"
      ]
     },
     "execution_count": 57,
     "metadata": {},
     "output_type": "execute_result"
    }
   ],
   "source": [
    "#Oppgave 1 e)\n",
    "\n",
    "sp.exp(3*x+5)"
   ]
  },
  {
   "cell_type": "code",
   "execution_count": 58,
   "id": "e8929ed9-ce95-4350-aa9a-0114c4c9bbae",
   "metadata": {},
   "outputs": [
    {
     "data": {
      "text/latex": [
       "$\\displaystyle \\log{\\left(x^{5} + 1 \\right)}$"
      ],
      "text/plain": [
       "log(x**5 + 1)"
      ]
     },
     "execution_count": 58,
     "metadata": {},
     "output_type": "execute_result"
    }
   ],
   "source": [
    "#Oppgave 1 f)\n",
    "\n",
    "sp.ln(x**5+1)"
   ]
  },
  {
   "cell_type": "code",
   "execution_count": 59,
   "id": "08434109-5c5a-45e9-b066-f91f9a626f08",
   "metadata": {},
   "outputs": [
    {
     "data": {
      "text/latex": [
       "$\\displaystyle e^{4 x^{2} + 8 x}$"
      ],
      "text/plain": [
       "exp(4*x**2 + 8*x)"
      ]
     },
     "execution_count": 59,
     "metadata": {},
     "output_type": "execute_result"
    }
   ],
   "source": [
    "#Oppgave 1 g)\n",
    "\n",
    "sp.exp(4*x**2+8*x)"
   ]
  },
  {
   "cell_type": "code",
   "execution_count": 60,
   "id": "ef509022-8f89-4f8e-9f2b-3b53b2b26410",
   "metadata": {},
   "outputs": [
    {
     "data": {
      "text/latex": [
       "$\\displaystyle \\log{\\left(\\frac{1}{x} \\right)}$"
      ],
      "text/plain": [
       "log(1/x)"
      ]
     },
     "execution_count": 60,
     "metadata": {},
     "output_type": "execute_result"
    }
   ],
   "source": [
    "#Oppgave 1 h)  \n",
    "\n",
    "sp.ln(1/x)"
   ]
  },
  {
   "cell_type": "code",
   "execution_count": 63,
   "id": "7f777d55-f554-4448-b493-0f4970a3e794",
   "metadata": {},
   "outputs": [
    {
     "data": {
      "text/latex": [
       "$\\displaystyle \\log{\\left(87 x \\right)}$"
      ],
      "text/plain": [
       "log(87*x)"
      ]
     },
     "execution_count": 63,
     "metadata": {},
     "output_type": "execute_result"
    }
   ],
   "source": [
    "#Oppgave 1 i)\n",
    "\n",
    "sp.ln(6*x+3**4*x)"
   ]
  },
  {
   "cell_type": "code",
   "execution_count": 65,
   "id": "55fd7e18-ac07-4905-98f6-8b1263844260",
   "metadata": {},
   "outputs": [
    {
     "data": {
      "text/latex": [
       "$\\displaystyle e^{2 x^{3}}$"
      ],
      "text/plain": [
       "exp(2*x**3)"
      ]
     },
     "execution_count": 65,
     "metadata": {},
     "output_type": "execute_result"
    }
   ],
   "source": [
    "#Oppgave 2 a)\n",
    "\n",
    "sp.exp(2*x*x**2)"
   ]
  },
  {
   "cell_type": "code",
   "execution_count": 66,
   "id": "373ca3f9-b2fd-407c-ad5f-060d12da4d17",
   "metadata": {},
   "outputs": [
    {
     "data": {
      "text/latex": [
       "$\\displaystyle \\log{\\left(x^{2} + 1 - \\frac{1}{x^{2}} \\right)}$"
      ],
      "text/plain": [
       "log(x**2 + 1 - 1/x**2)"
      ]
     },
     "execution_count": 66,
     "metadata": {},
     "output_type": "execute_result"
    }
   ],
   "source": [
    "#Oppgave 2 b) \n",
    "\n",
    "sp.ln(x**2-1/x**2+1)"
   ]
  },
  {
   "cell_type": "code",
   "execution_count": 68,
   "id": "ec3ba553-d317-4995-8514-3588826e98ce",
   "metadata": {},
   "outputs": [
    {
     "data": {
      "text/latex": [
       "$\\displaystyle \\log{\\left(x^{2} \\left(x^{2} + 2\\right) \\right)}$"
      ],
      "text/plain": [
       "log(x**2*(x**2 + 2))"
      ]
     },
     "execution_count": 68,
     "metadata": {},
     "output_type": "execute_result"
    }
   ],
   "source": [
    "#Oppgave 2c)\n",
    "\n",
    "sp.ln(x**2*(x**2+2),)"
   ]
  },
  {
   "cell_type": "code",
   "execution_count": 69,
   "id": "35bd240c-a54c-4073-8dac-c588151eef53",
   "metadata": {},
   "outputs": [
    {
     "data": {
      "text/latex": [
       "$\\displaystyle e^{1 - \\frac{2}{x}}$"
      ],
      "text/plain": [
       "exp(1 - 2/x)"
      ]
     },
     "execution_count": 69,
     "metadata": {},
     "output_type": "execute_result"
    }
   ],
   "source": [
    "#Oppgave 2 d)\n",
    "\n",
    "sp.exp(-2*x/x**2+1)"
   ]
  }
 ],
 "metadata": {
  "kernelspec": {
   "display_name": "Python 3 (ipykernel)",
   "language": "python",
   "name": "python3"
  },
  "language_info": {
   "codemirror_mode": {
    "name": "ipython",
    "version": 3
   },
   "file_extension": ".py",
   "mimetype": "text/x-python",
   "name": "python",
   "nbconvert_exporter": "python",
   "pygments_lexer": "ipython3",
   "version": "3.9.5"
  }
 },
 "nbformat": 4,
 "nbformat_minor": 5
}
